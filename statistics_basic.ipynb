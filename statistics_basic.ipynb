{
  "nbformat": 4,
  "nbformat_minor": 0,
  "metadata": {
    "colab": {
      "provenance": []
    },
    "kernelspec": {
      "name": "python3",
      "display_name": "Python 3"
    },
    "language_info": {
      "name": "python"
    }
  },
  "cells": [
    {
      "cell_type": "markdown",
      "source": [
        "1.What is statistics, and why is it important?"
      ],
      "metadata": {
        "id": "p84F5-MPPWxi"
      }
    },
    {
      "cell_type": "markdown",
      "source": [
        "Answer :- Statistic is mathematical science which include method like collecting data, organizing data and analyzing data so that meaningfull conclusion can be drawn from them.\n",
        "\n",
        "Why is Statistics Important?\n",
        "\n",
        "1.Informed Decision-Making\n",
        "Organizations, governments, and individuals use statistics to make data-driven decisions (e.g., market trends, public policy, medical treatments).\n",
        "\n",
        "2.Understanding Trends and Patterns\n",
        "It helps identify relationships in data (e.g., seasonal trends, correlation between variables).\n",
        "\n",
        "3.Predicting Outcomes\n",
        "Used in fields like economics, weather forecasting, and machine learning to predict future events based on current or historical data.\n",
        "\n",
        "4.Quality Control and Improvement\n",
        "In manufacturing and business, statistical tools help ensure product quality and process efficiency.\n",
        "\n",
        "5.Scientific Research\n",
        "Essential for designing experiments and analyzing results, ensuring conclusions are valid and reproducible.\n"
      ],
      "metadata": {
        "id": "fNSHStDrPduB"
      }
    },
    {
      "cell_type": "markdown",
      "source": [
        "2.What are the two main types of statistics?"
      ],
      "metadata": {
        "id": "WATuENxBSR1V"
      }
    },
    {
      "cell_type": "markdown",
      "source": [
        "Answer :-The two main types of statistics are:\n",
        "\n",
        " 1. Descriptive Statistics\n",
        "\n",
        "2. Inferential Statistics\n"
      ],
      "metadata": {
        "id": "0tOhBiaTSYJT"
      }
    },
    {
      "cell_type": "markdown",
      "source": [
        "3.What are descriptive statistics?\n",
        "\n"
      ],
      "metadata": {
        "id": "1ZbFdO9TTyPt"
      }
    },
    {
      "cell_type": "markdown",
      "source": [
        "Answer :-Descriptive statistics are used to summarize and describe the main features of a dataset. They help us organize and simplify large amounts of data in a meaningful way."
      ],
      "metadata": {
        "id": "3swuMIyfT8wO"
      }
    },
    {
      "cell_type": "markdown",
      "source": [
        "4. What is inferential statistics?"
      ],
      "metadata": {
        "id": "2epDOk-hUgMg"
      }
    },
    {
      "cell_type": "markdown",
      "source": [
        "Answer :- Inferential statistics involve making predictions or inferences about a larger population based on a sample of data."
      ],
      "metadata": {
        "id": "F_q09Ag0Uxw3"
      }
    },
    {
      "cell_type": "markdown",
      "source": [
        "5.What is sampling in statistics?"
      ],
      "metadata": {
        "id": "UfyaMoRGU-dS"
      }
    },
    {
      "cell_type": "markdown",
      "source": [
        "Answer :- Sampling in statistics is the process of selecting a subset of individuals or observations (a sample) from a larger group (called the population) to analyze and draw conclusions about the whole population.\n"
      ],
      "metadata": {
        "id": "59j5c9RgVkUJ"
      }
    },
    {
      "cell_type": "markdown",
      "source": [
        "6.What are the different types of sampling methods?"
      ],
      "metadata": {
        "id": "AecdlWIpaIr9"
      }
    },
    {
      "cell_type": "markdown",
      "source": [
        "Answer :- main types of sampling methods, categorized into two broad groups:\n",
        "1. Probability Sampling\n",
        "\n",
        " a. Simple Random Sampling\n",
        "\n",
        " b. Systematic Sampling\n",
        "\n",
        " c. Stratified Sampling\n",
        "\n",
        " d. Cluster Sampling\n",
        "\n",
        "2. Non-Probability Sampling\n",
        "\n",
        " a. Convenience Sampling\n",
        "\n",
        " b. Judgmental/Purposive Sampling\n",
        "\n",
        " c. Snowball Sampling\n",
        "\n",
        " d. Quota Sampling"
      ],
      "metadata": {
        "id": "lxcg-_SxbPQF"
      }
    },
    {
      "cell_type": "markdown",
      "source": [
        "7. What is the difference between random and non-random sampling?"
      ],
      "metadata": {
        "id": "ZZ2jkwVucQg5"
      }
    },
    {
      "cell_type": "markdown",
      "source": [
        "Answer :- Simple comparison between random and non-random (also called probability and non-probability) sampling:\n",
        "\n",
        "Random Sampling (Probability)\tEvery member has a known, equal chance of selection.\n",
        "\n",
        "Non-Random Sampling (Non-Probability) Not all members have a known or equal chance."
      ],
      "metadata": {
        "id": "Keugk5xSdND2"
      }
    },
    {
      "cell_type": "markdown",
      "source": [
        "8.Define and give examples of qualitative and quantitative data?"
      ],
      "metadata": {
        "id": "kMaTOTzzeAhT"
      }
    },
    {
      "cell_type": "markdown",
      "source": [
        "Answer :-\n",
        "1. Qualitative Data\n",
        "\n",
        "Qualitative data describes qualities or characteristics. It is non-numeric .\n",
        "\n",
        " | **Example**                                        | **Type**    |\n",
        "| -------------------------------------------------- | ----------- |\n",
        "| Colors of cars (red, blue)                         | Categorical |\n",
        "| Feedback from customers (\"good\", \"bad\", \"average\") | Text-based  |\n",
        "| Blood type (A, B, AB, O)                           | Nominal     |\n",
        "| Education level (primary, secondary, college)      | Ordinal     |\n",
        "\n",
        "\n",
        " 2.Quantitative Data\n",
        "\n",
        " Quantitative data is numerical and can be measured or counted. It deals with quantities, amounts, or ranges.\n",
        "\n",
        "\n",
        "| **Example**             | **Type**    |\n",
        "| ----------------------- | ----------- |\n",
        "| Age (25 years)          | Continuous  |\n",
        "| Number of students (30) | Discrete    |\n",
        "| Height (160 cm)         | Continuous  |\n",
        "| Exam scores (90/100)    | Ratio scale |\n",
        "\n",
        "\n"
      ],
      "metadata": {
        "id": "SWREyGDgeOba"
      }
    },
    {
      "cell_type": "markdown",
      "source": [
        "<!-- 8.Define and give examples of qualitative and quantitative dat-->"
      ],
      "metadata": {
        "id": "bq-4ghSzd7U_"
      }
    },
    {
      "cell_type": "markdown",
      "source": [
        "9.What are the different types of data in statistic?"
      ],
      "metadata": {
        "id": "-Tx4XsAQgemP"
      }
    },
    {
      "cell_type": "markdown",
      "source": [
        "Answer :- A. Qualitative (Categorical) Data\n",
        "\n",
        "Describes qualities or categories\n",
        "\n",
        "Non-numerical (but can be coded as numbers)\n",
        "\n",
        "| Type        | Description         | Example                                                                  |\n",
        "| ----------- | ------------------- | ------------------------------------------------------------------------ |\n",
        "| **Nominal** | No order or ranking | Gender (Male, Female), Blood type (A, B)                                 |\n",
        "| **Ordinal** | Has a logical order | Satisfaction (Low, Medium, High), Education level (High school, College) |\n",
        "  \n",
        "B. Quantitative (Numerical) Data\n",
        "Represents numbers and quantities\n",
        "\n",
        "Can be measured or counted\n",
        "\n",
        "| Type           | Description                               | Example                             |\n",
        "| -------------- | ----------------------------------------- | ----------------------------------- |\n",
        "| **Discrete**   | Countable numbers                         | Number of children (1, 2, 3)        |\n",
        "| **Continuous** | Measurable; can take any value in a range | Height (160.5 cm), Weight (55.3 kg) |\n"
      ],
      "metadata": {
        "id": "b9AeqIMDh-6E"
      }
    },
    {
      "cell_type": "markdown",
      "source": [
        "10. Explain nominal, ordinal, interval, and ratio levels of measurement?"
      ],
      "metadata": {
        "id": "97mJlu2pijfp"
      }
    },
    {
      "cell_type": "markdown",
      "source": [
        "Answer :- 1. Nominal Level\n",
        "\n",
        "Data that consists of names, labels, or categories.\n",
        "\n",
        "No order or ranking is possible.\n",
        "\n",
        "Key Features:\n",
        "\n",
        "Categorical\n",
        "\n",
        "No meaningful order\n",
        "\n",
        "No arithmetic operations\n",
        "\n",
        "Examples:\n",
        "\n",
        "Gender (Male, Female)\n",
        "\n",
        "Blood type (A, B, AB, O)\n",
        "\n",
        "Marital status (Single, Married)\n",
        "\n",
        "2. Ordinal Level\n",
        "\n",
        "Data that can be ordered or ranked, but the differences between values are not meaningful.\n",
        "\n",
        "Key Features:\n",
        "\n",
        "Ordered categories\n",
        "\n",
        "No exact measurement of difference\n",
        "\n",
        "Still qualitative\n",
        "\n",
        "Examples:\n",
        "\n",
        "Education level (Primary < Secondary < College)\n",
        "\n",
        "Customer satisfaction (Poor, Average, Good)\n",
        "\n",
        "Movie ratings (1-star, 2-star, …)\n",
        "\n",
        "\n",
        " 3. Interval Level\n",
        "\n",
        "Numeric data with ordered categories and equal intervals between values, but no true zero point.\n",
        "\n",
        "Key Features:\n",
        "\n",
        "Quantitative\n",
        "\n",
        "Equal spacing\n",
        "\n",
        "No true zero, so ratios are meaningless\n",
        "\n",
        "Examples:\n",
        "\n",
        "Temperature in Celsius or Fahrenheit (0°C ≠ no temperature)\n",
        "\n",
        "IQ scores\n",
        "\n",
        "Dates (e.g., years: 2000, 2020)\n",
        "\n",
        "4. Ratio Level\n",
        "\n",
        "Numeric data with all the properties of interval, and a meaningful, absolute zero.\n",
        "Ratios and arithmetic operations are meaningful.\n",
        "\n",
        "Key Features:\n",
        "\n",
        "Quantitative\n",
        "\n",
        "Has true zero\n",
        "\n",
        "Supports comparison, multiplication, division\n",
        "\n",
        "Examples:\n",
        "\n",
        "Height, Weight\n",
        "\n",
        "Age\n",
        "\n",
        "Income\n",
        "\n",
        "Distance\n",
        "\n",
        "\n",
        "\n"
      ],
      "metadata": {
        "id": "V8coTJ_fjJaU"
      }
    },
    {
      "cell_type": "markdown",
      "source": [
        "11.What is the measure of central tendency?"
      ],
      "metadata": {
        "id": "ySKnHBFpnUPc"
      }
    },
    {
      "cell_type": "markdown",
      "source": [
        "Answer :- A measure of central tendency is a statistical value that represents the center or average of a dataset. It gives a single value that describes the typical or central value around which the data tends to cluster.\n",
        "\n"
      ],
      "metadata": {
        "id": "xgyo6FlcnaV6"
      }
    },
    {
      "cell_type": "markdown",
      "source": [
        "12.Define mean, median, and mode."
      ],
      "metadata": {
        "id": "SqIJ-NO8nzHI"
      }
    },
    {
      "cell_type": "markdown",
      "source": [
        "Answer :-  1. Mean (Arithmetic Mean)\n",
        "\n",
        "The mean is the average of a set of numbers. It is found by adding all values and dividing by the total number of values.\n",
        "\n",
        "2. Median\n",
        "\n",
        "The median is the middle value when all the numbers are arranged in order. If there's an even number of values, it’s the average of the two middle numbers.\n",
        "\n",
        " 3. Mode\n",
        "\n",
        "The mode is the value that occurs most frequently in a dataset.\n",
        "\n",
        "A dataset may have:\n"
      ],
      "metadata": {
        "id": "qvRpa7GHoUfK"
      }
    },
    {
      "cell_type": "markdown",
      "source": [
        "13. What is the significance of the measure of central tendency?"
      ],
      "metadata": {
        "id": "9VgTwnVho0EH"
      }
    },
    {
      "cell_type": "markdown",
      "source": [
        "Answer :-🔹 Significance of the Measure of Central Tendency\n",
        "\n",
        "Measures of central tendency—mean, median, and mode—are essential tools in statistics because they help summarize a large set of data with a single representative value.\n",
        "\n"
      ],
      "metadata": {
        "id": "OvpV4-LQpHiU"
      }
    },
    {
      "cell_type": "markdown",
      "source": [
        "14.What is variance, and how is it calculated?"
      ],
      "metadata": {
        "id": "zT45BtwPpR9S"
      }
    },
    {
      "cell_type": "markdown",
      "source": [
        "Answer :- Variance is a statistical measure that shows how spread out or how much variation there is in a set of data values from the mean (average).\n",
        "\n",
        "It tells you how far each number in the dataset is from the mean.\n",
        "\n",
        "A low variance means the data is close to the mean, and a high variance means the data is spread out.\n",
        "\n",
        "🔹 Formula to Calculate Variance:\n",
        "\n",
        "For a population:\n",
        "\n",
        "σ\n",
        "2\n",
        " =\n",
        "N\n",
        "∑(x\n",
        "i\n",
        "​\n",
        " −μ)\n",
        "2\n",
        "\n",
        "​\n",
        "\n",
        "𝜎\n",
        "2\n",
        "σ\n",
        "2\n",
        "  = Population variance\n",
        "\n",
        "𝑥\n",
        "𝑖\n",
        "x\n",
        "i\n",
        "​\n",
        "  = Each individual value\n",
        "\n",
        "𝜇\n",
        "μ = Population mean\n",
        "\n",
        "𝑁\n",
        "N = Total number of values\n",
        "\n",
        "\n",
        "For a sample:\n",
        "𝑠\n",
        "2\n",
        "=\n",
        "∑\n",
        "(\n",
        "𝑥\n",
        "𝑖\n",
        "−\n",
        "𝑥\n",
        "ˉ\n",
        ")\n",
        "2\n",
        "𝑛\n",
        "−\n",
        "1\n",
        "s\n",
        "2\n",
        " =\n",
        "n−1\n",
        "∑(x\n",
        "i\n",
        "​\n",
        " −\n",
        "x\n",
        "ˉ\n",
        " )\n",
        "2\n",
        "\n",
        "​\n",
        "\n",
        "𝑠\n",
        "2\n",
        "s\n",
        "2\n",
        "  = Sample variance\n",
        "\n",
        "𝑥\n",
        "𝑖\n",
        "x\n",
        "i\n",
        "​\n",
        "  = Each sample value\n",
        "\n",
        "𝑥\n",
        "ˉ\n",
        "x\n",
        "ˉ\n",
        "  = Sample mean\n",
        "\n",
        "𝑛\n",
        "n = Number of sample values\n",
        "\n",
        "🔸 Steps to Calculate Variance:\n",
        "Find the Mean of the data.\n",
        "\n",
        "Subtract the Mean from each data value (find the deviation).\n",
        "\n",
        "Square each deviation.\n",
        "\n",
        "Add all the squared deviations.\n",
        "\n",
        "Divide:\n",
        "\n",
        "By N (for population)\n",
        "\n",
        "By n – 1 (for sample)\n",
        "\n",
        " Example:\n",
        "Let’s calculate the sample variance of:\n",
        "Data: 2, 4, 6\n",
        "\n",
        "Mean:\n",
        "\n",
        "𝑥\n",
        "ˉ\n",
        "=\n",
        "2\n",
        "+\n",
        "4\n",
        "+\n",
        "6\n",
        "3\n",
        "=\n",
        "4\n",
        "x\n",
        "ˉ\n",
        " =\n",
        "3\n",
        "2+4+6\n",
        "​\n",
        " =4\n",
        "\n",
        "Deviations from mean:\n",
        "2 − 4 = -2, 4 − 4 = 0, 6 − 4 = 2\n",
        "\n",
        "\n",
        "Squares:\n",
        "(-2)² = 4, (0)² = 0, (2)² = 4\n",
        "\n",
        "\n",
        "Sum of squares:\n",
        "4 + 0 + 4 = 8\n",
        "\n",
        "\n",
        "Sample variance:\n",
        "\n",
        "𝑠\n",
        "2\n",
        "=\n",
        "8\n",
        "3\n",
        "−\n",
        "1\n",
        "=\n",
        "8\n",
        "2\n",
        "=\n",
        "4\n",
        "s\n",
        "2\n",
        " =\n",
        "3−1\n",
        "8\n",
        "​\n",
        " =\n",
        "2\n",
        "8\n",
        "​\n",
        " =4\n",
        "✔️ Variance = 4\n",
        "\n",
        "\n",
        "\n",
        "\n",
        "\n",
        "\n",
        "\n",
        "\n",
        "\n",
        "\n",
        "\n",
        "\n",
        "\n",
        "\n",
        "\n",
        "\n"
      ],
      "metadata": {
        "id": "9zSHN2tXpxn4"
      }
    },
    {
      "cell_type": "markdown",
      "source": [
        "15. What is standard deviation, and why is it important?"
      ],
      "metadata": {
        "id": "967LZ-ZFp1zQ"
      }
    },
    {
      "cell_type": "markdown",
      "source": [
        "Answer :- Standard Deviation (SD) is a measure of how spread out or dispersed the values in a dataset are from the mean (average).\n",
        "\n",
        "It tells you how much the data varies.\n",
        "\n",
        "A small SD means the values are close to the mean.\n",
        "\n",
        "A large SD means the values are spread out over a wider range.\n",
        "\n",
        "Why is Standard Deviation Important?\n",
        "\n",
        "| **Reason**                          | **Explanation**                                                |\n",
        "| ----------------------------------- | -------------------------------------------------------------- |\n",
        "| ✅ Measures consistency              | Low SD = more consistent data                                  |\n",
        "| ✅ Helps in comparison               | Compare the spread of data in different datasets               |\n",
        "| ✅ Used in risk analysis             | In finance, high SD = high risk                                |\n",
        "| ✅ Essential for normal distribution | Many statistical methods rely on SD for accuracy               |\n",
        "| ✅ Detects outliers or variation     | Helps identify values that deviate significantly from the mean |\n"
      ],
      "metadata": {
        "id": "AYe6RWXTts07"
      }
    },
    {
      "cell_type": "markdown",
      "source": [
        "Answer :-"
      ],
      "metadata": {
        "id": "OMePw1FtqAe9"
      }
    },
    {
      "cell_type": "markdown",
      "source": [
        "16. Define and explain the term range in statistics?"
      ],
      "metadata": {
        "id": "S8-OQY9rt_1q"
      }
    },
    {
      "cell_type": "markdown",
      "source": [
        "Answer :- Range is the simplest measure of dispersion in statistics. It shows the spread of values in a dataset by calculating the difference between the highest and lowest values.\n",
        "\n",
        "\n"
      ],
      "metadata": {
        "id": "SFtMGGy5uUI0"
      }
    },
    {
      "cell_type": "markdown",
      "source": [
        "17.What is the difference between variance and standard deviation?"
      ],
      "metadata": {
        "id": "7bxCmT_ouft2"
      }
    },
    {
      "cell_type": "markdown",
      "source": [
        "answer :- Both variance and standard deviation are measures of how spread out the data is around the mean. But they differ in how they express that spread.\n",
        "\n",
        "| **Aspect**           | **Variance**                                             | **Standard Deviation**                                |\n",
        "| -------------------- | -------------------------------------------------------- | ----------------------------------------------------- |\n",
        "| **Definition**       | The **average of the squared differences** from the mean | The **square root of the variance**                   |\n",
        "| **Formula (Sample)** | $s^2 = \\frac{\\sum (x_i - \\bar{x})^2}{n - 1}$             | $s = \\sqrt{s^2}$                                      |\n",
        "| **Units**            | **Squared units** (e.g., cm², kg², ₹²)                   | **Same units** as the original data (e.g., cm, kg, ₹) |\n",
        "| **Interpretation**   | Less intuitive; a mathematical measure of spread         | Easier to interpret; tells actual average deviation   |\n",
        "| **Purpose**          | Used in calculations and theoretical analysis            | Used for practical understanding and comparison       |\n"
      ],
      "metadata": {
        "id": "WWXp5MdevK0b"
      }
    },
    {
      "cell_type": "markdown",
      "source": [
        "18.What is skewness in a dataset?\n"
      ],
      "metadata": {
        "id": "KNW5_HuDva2N"
      }
    },
    {
      "cell_type": "markdown",
      "source": [
        "answer :- Skewness is a statistical measure that tells us about the asymmetry or tilt of the distribution of data values in a dataset.\n",
        "\n",
        "It describes whether the data is symmetrically distributed or leans more to the left or right of the mean.\n",
        "\n"
      ],
      "metadata": {
        "id": "ttVx6P8Pvdn-"
      }
    },
    {
      "cell_type": "markdown",
      "source": [
        "19.What does it mean if a dataset is positively or negatively skewed?"
      ],
      "metadata": {
        "id": "hDbWzHqxvq5S"
      }
    },
    {
      "cell_type": "markdown",
      "source": [
        "answer :- 🔸 1. Positively Skewed (Right-Skewed) Distribution\n",
        "Tail is stretched on the right side (towards higher values).\n",
        "\n",
        "Most data values are clustered on the left.\n",
        "\n",
        "A few large outliers pull the mean to the right.\n",
        "\n",
        "| Measure   | Relationship        |\n",
        "| --------- | ------------------- |\n",
        "| Mean      | > Median > Mode     |\n",
        "| Tail side | Longer on the right |\n",
        "\n",
        "🔸 2. Negatively Skewed (Left-Skewed) Distribution\n",
        "Tail is stretched on the left side (towards lower values).\n",
        "\n",
        "Most data values are clustered on the right.\n",
        "\n",
        "A few small outliers pull the mean to the left.\n",
        "\n",
        "| Measure   | Relationship       |\n",
        "| --------- | ------------------ |\n",
        "| Mean      | < Median < Mode    |\n",
        "| Tail side | Longer on the left |\n",
        "\n",
        "Positive skew = Few very high values pulling the average up.\n",
        "\n",
        "Negative skew = Few very low values pulling the average down.\n",
        "\n"
      ],
      "metadata": {
        "id": "5vEAtZOxv1m0"
      }
    },
    {
      "cell_type": "markdown",
      "source": [
        "20. Define and explain kurtosis."
      ],
      "metadata": {
        "id": "ZINfFUdZwdRT"
      }
    },
    {
      "cell_type": "markdown",
      "source": [
        "answer :- Kurtosis is a statistical measure that describes the \"tailedness\" or peakedness of a data distribution.\n",
        "It tells us how sharply peaked a distribution is and how heavy or light the tails are compared to a normal distribution."
      ],
      "metadata": {
        "id": "jSNEs_-ewxTg"
      }
    },
    {
      "cell_type": "markdown",
      "source": [
        "21.What is the purpose of covariance?"
      ],
      "metadata": {
        "id": "H6jpK9x-w8v1"
      }
    },
    {
      "cell_type": "markdown",
      "source": [
        "answer :- Covariance is a statistical measure that tells us how two variables change together.\n",
        "\n",
        "It shows the direction of the relationship between two variables:\n",
        "\n",
        "📈 Positive covariance: Both variables tend to increase or decrease together.\n",
        "\n",
        "📉 Negative covariance: When one increases, the other tends to decrease.\n",
        "\n",
        "🟰 Zero covariance: No relationship between the variables.\n",
        "\n",
        "| **Purpose**                            | **Explanation**                                                          |\n",
        "| -------------------------------------- | ------------------------------------------------------------------------ |\n",
        "| ✅ **To detect relationship direction** | Shows whether variables move together in the same or opposite direction. |\n",
        "| ✅ **Helps in portfolio risk analysis** | Used in finance to assess how asset returns move together.               |\n",
        "| ✅ **Foundation for correlation**       | Covariance is used to calculate **correlation**, a standardized version. |\n",
        "| ✅ **Used in multivariate analysis**    | Important for **PCA (Principal Component Analysis)**, regression, etc.   |\n"
      ],
      "metadata": {
        "id": "AFFEN4W8xRbE"
      }
    },
    {
      "cell_type": "markdown",
      "source": [
        "22. What does correlation measure in statistics?"
      ],
      "metadata": {
        "id": "Jn1k4Vmnxgzz"
      }
    },
    {
      "cell_type": "markdown",
      "source": [
        "answer :- Correlation measures how strongly two things are related — and whether they move in the same or opposite directions."
      ],
      "metadata": {
        "id": "7I9wyAgJxk7P"
      }
    },
    {
      "cell_type": "markdown",
      "source": [
        "23.  What is the difference between covariance and correlation?"
      ],
      "metadata": {
        "id": "WOoEZg0ryCcA"
      }
    },
    {
      "cell_type": "markdown",
      "source": [
        "answer :- Both covariance and correlation measure how two variables move or change together, but they differ in how they express this relationship.\n",
        "\n",
        "| **Feature**          | **Covariance**                                                        | **Correlation**                                                     |\n",
        "| -------------------- | --------------------------------------------------------------------- | ------------------------------------------------------------------- |\n",
        "| **Definition**       | Measures the **direction** of the relationship between variables      | Measures both **direction and strength** of the relationship        |\n",
        "| **Value Range**      | Can range from **−∞ to +∞**                                           | Always between **−1 and +1**                                        |\n",
        "| **Units**            | Has **units** (product of units of variables, like cm·kg)             | **Unitless (standardized)**                                         |\n",
        "| **Interpretability** | Harder to interpret directly                                          | Easier to interpret due to fixed scale                              |\n",
        "| **Formula**          | $\\text{Cov}(X,Y) = \\frac{\\sum (x_i - \\bar{x})(y_i - \\bar{y})}{n - 1}$ | $\\text{Corr}(X,Y) = \\frac{\\text{Cov}(X,Y)}{\\sigma_x \\sigma_y}$      |\n",
        "| **Usage**            | Used in **portfolio theory**, PCA                                     | Used in **statistics**, **regression**, **ML**, **social sciences** |\n"
      ],
      "metadata": {
        "id": "amAB3IDKyG7j"
      }
    },
    {
      "cell_type": "markdown",
      "source": [
        "24.What are some real-world applications of statistics?\n"
      ],
      "metadata": {
        "id": "26AsiUpKyoUq"
      }
    },
    {
      "cell_type": "markdown",
      "source": [
        "answer :- 🔹 Real-World Applications of Statistics\n",
        " 1. Business & Marketing\n",
        "\n",
        "Customer analysis: Understanding buying behavior, preferences.\n",
        "\n",
        "Sales forecasting: Predicting future demand using historical data.\n",
        "\n",
        "Market research: Analyzing survey and product feedback data.\n",
        "\n",
        "A/B testing: Comparing two versions of a product or ad.\n",
        "\n",
        " 2. Sports\n",
        "\n",
        "Player performance stats: Used in training and strategy.\n",
        "\n",
        "Match analysis: Predicting outcomes, managing player fatigue.\n",
        "\n",
        "Scouting & recruitment: Using data to evaluate potential.\n",
        "\n",
        " 3. Technology & Artificial Intelligence\n",
        "\n",
        "Machine learning models: Training with statistical algorithms.\n",
        "\n",
        "Data science: Extracting insights from large datasets.\n",
        "\n",
        "Speech/image recognition: Based on statistical patterns.\n",
        "\n",
        "4.Finance & Economics\n",
        "\n",
        "Stock market analysis: Predicting trends and making investments.\n",
        "\n",
        "Risk management: Assessing the probability of financial loss.\n",
        "\n",
        "Economic forecasting: Predicting inflation, GDP, etc.\n",
        "\n",
        "\n",
        "\n"
      ],
      "metadata": {
        "id": "jNA4gm67y0Mf"
      }
    },
    {
      "cell_type": "markdown",
      "source": [
        "practicals"
      ],
      "metadata": {
        "id": "EnNMgHUSzrWn"
      }
    },
    {
      "cell_type": "code",
      "source": [],
      "metadata": {
        "id": "Z7Bbvilgzw_k"
      },
      "execution_count": null,
      "outputs": []
    },
    {
      "cell_type": "markdown",
      "source": [
        "1.How do you calculate the mean, median, and mode of a dataset."
      ],
      "metadata": {
        "id": "UPozUwoxzy8o"
      }
    },
    {
      "cell_type": "code",
      "source": [
        "data = [5, 8, 12, 8, 10, 15, 8]"
      ],
      "metadata": {
        "id": "5dSHBl8g0JBC"
      },
      "execution_count": 3,
      "outputs": []
    },
    {
      "cell_type": "markdown",
      "source": [],
      "metadata": {
        "id": "a6NTlYhbz7ep"
      }
    },
    {
      "cell_type": "code",
      "source": [
        "import numpy as np\n"
      ],
      "metadata": {
        "id": "jJgTvuCJ0hg9"
      },
      "execution_count": 5,
      "outputs": []
    },
    {
      "cell_type": "code",
      "source": [
        "mean = np.mean(data)\n"
      ],
      "metadata": {
        "id": "-EWB81_i0iWg"
      },
      "execution_count": 6,
      "outputs": []
    },
    {
      "cell_type": "code",
      "source": [
        "print(\"Mean:\", mean)"
      ],
      "metadata": {
        "colab": {
          "base_uri": "https://localhost:8080/"
        },
        "id": "_P4XKIxu0sTZ",
        "outputId": "f73c3ff9-8230-4b04-808d-bda85ef13d0f"
      },
      "execution_count": 8,
      "outputs": [
        {
          "output_type": "stream",
          "name": "stdout",
          "text": [
            "Mean: 9.428571428571429\n"
          ]
        }
      ]
    },
    {
      "cell_type": "code",
      "source": [
        "median = np.median(data)"
      ],
      "metadata": {
        "id": "KLzmIslV01Zs"
      },
      "execution_count": 9,
      "outputs": []
    },
    {
      "cell_type": "code",
      "source": [
        "print(\"Median:\", median)"
      ],
      "metadata": {
        "colab": {
          "base_uri": "https://localhost:8080/"
        },
        "id": "i2YuAgSQ1BZ_",
        "outputId": "c15d2dde-436f-4058-85fc-77d3980cc49a"
      },
      "execution_count": 10,
      "outputs": [
        {
          "output_type": "stream",
          "name": "stdout",
          "text": [
            "Median: 8.0\n"
          ]
        }
      ]
    },
    {
      "cell_type": "code",
      "source": [
        "import statistics as stats\n",
        "from scipy import stats as scipy_stats"
      ],
      "metadata": {
        "id": "PfrkkSuO1Fv7"
      },
      "execution_count": null,
      "outputs": []
    },
    {
      "cell_type": "code",
      "source": [
        "mode = scipy_stats.mode(data, keepdims=True).mode[0]\n"
      ],
      "metadata": {
        "id": "L4OaJ8Rs1N9T"
      },
      "execution_count": 12,
      "outputs": []
    },
    {
      "cell_type": "code",
      "source": [
        "print(\"Mode:\", mode)"
      ],
      "metadata": {
        "colab": {
          "base_uri": "https://localhost:8080/"
        },
        "id": "fOzUXmgu1ZIT",
        "outputId": "6fdeca33-c248-4364-a9aa-de3f77179711"
      },
      "execution_count": 13,
      "outputs": [
        {
          "output_type": "stream",
          "name": "stdout",
          "text": [
            "Mode: 8\n"
          ]
        }
      ]
    },
    {
      "cell_type": "markdown",
      "source": [
        "2. Write a Python program to compute the variance and standard deviation of a dataset."
      ],
      "metadata": {
        "id": "4RgcCYXY1lLA"
      }
    },
    {
      "cell_type": "code",
      "source": [
        "import numpy as np\n"
      ],
      "metadata": {
        "id": "b2oR0WKI1qvy"
      },
      "execution_count": 14,
      "outputs": []
    },
    {
      "cell_type": "code",
      "source": [
        "data = [5, 8, 12, 8, 10, 15, 8]\n"
      ],
      "metadata": {
        "id": "i25bJ21g14gF"
      },
      "execution_count": 15,
      "outputs": []
    },
    {
      "cell_type": "code",
      "source": [
        "variance = np.var(data, ddof=1)"
      ],
      "metadata": {
        "id": "JbOqMmfd183h"
      },
      "execution_count": 16,
      "outputs": []
    },
    {
      "cell_type": "code",
      "source": [
        "print(\"Variance:\", variance)"
      ],
      "metadata": {
        "colab": {
          "base_uri": "https://localhost:8080/"
        },
        "id": "L3Aec8tU1_2J",
        "outputId": "90f77cec-0f02-4466-b644-a1a317c87557"
      },
      "execution_count": 17,
      "outputs": [
        {
          "output_type": "stream",
          "name": "stdout",
          "text": [
            "Variance: 10.619047619047619\n"
          ]
        }
      ]
    },
    {
      "cell_type": "code",
      "source": [
        "std_dev = np.std(data, ddof=1)\n"
      ],
      "metadata": {
        "id": "2Ns9ApBO2EfU"
      },
      "execution_count": 18,
      "outputs": []
    },
    {
      "cell_type": "code",
      "source": [
        "print(\"Standard Deviation:\", std_dev)\n"
      ],
      "metadata": {
        "colab": {
          "base_uri": "https://localhost:8080/"
        },
        "id": "asER1l6n2IUa",
        "outputId": "93bb816b-970b-4f2a-aa56-3f1cb92ce7f6"
      },
      "execution_count": 19,
      "outputs": [
        {
          "output_type": "stream",
          "name": "stdout",
          "text": [
            "Standard Deviation: 3.25868802112869\n"
          ]
        }
      ]
    },
    {
      "cell_type": "markdown",
      "source": [
        "3.Create a dataset and classify it into nominal, ordinal, interval, and ratio types."
      ],
      "metadata": {
        "id": "acrEj_v-2Xxs"
      }
    },
    {
      "cell_type": "markdown",
      "source": [
        "| Student | Gender | Grade Level | Temperature (°C) | Marks (%) |\n",
        "| ------- | ------ | ----------- | ---------------- | --------- |\n",
        "| A       | Male   | Excellent   | 30               | 85        |\n",
        "| B       | Female | Good        | 25               | 70        |\n",
        "| C       | Female | Average     | 28               | 55        |\n",
        "| D       | Male   | Poor        | 27               | 40        |\n"
      ],
      "metadata": {
        "id": "aIzpHJNM2ugK"
      }
    },
    {
      "cell_type": "markdown",
      "source": [
        "Classification of Data Types:"
      ],
      "metadata": {
        "id": "nm_u_sHS21AM"
      }
    },
    {
      "cell_type": "markdown",
      "source": [
        "| **Column**           | **Type of Measurement** | **Explanation**                                                               |\n",
        "| -------------------- | ----------------------- | ----------------------------------------------------------------------------- |\n",
        "| **Gender**           | **Nominal**             | Categories with no order (Male, Female)                                       |\n",
        "| **Grade Level**      | **Ordinal**             | Ordered categories (Poor < Average < Good < Excellent), but gaps aren't equal |\n",
        "| **Temperature (°C)** | **Interval**            | Numeric, equal intervals, but no true zero (0°C ≠ no temperature)             |\n",
        "| **Marks (%)**        | **Ratio**               | Numeric, equal intervals, has a true zero (0% means no marks)                 |\n"
      ],
      "metadata": {
        "id": "be5iHZDj25io"
      }
    },
    {
      "cell_type": "code",
      "source": [],
      "metadata": {
        "id": "qtDlzYRK28YQ"
      },
      "execution_count": null,
      "outputs": []
    },
    {
      "cell_type": "markdown",
      "source": [
        "4.Implement sampling techniques like random sampling and stratified sampling."
      ],
      "metadata": {
        "id": "erJgiRxw3jU7"
      }
    },
    {
      "cell_type": "code",
      "source": [
        "import pandas as pd\n",
        "import numpy as np\n",
        "from sklearn.model_selection import train_test_split\n"
      ],
      "metadata": {
        "id": "rzcHhrmp3l2F"
      },
      "execution_count": 20,
      "outputs": []
    },
    {
      "cell_type": "code",
      "source": [
        "data = pd.DataFrame({\n",
        "    'Name': ['A', 'B', 'C', 'D', 'E', 'F', 'G', 'H'],\n",
        "    'Gender': ['Male', 'Female', 'Male', 'Female', 'Male', 'Female', 'Male', 'Female'],\n",
        "    'Score': [80, 70, 90, 60, 75, 85, 88, 55]\n",
        "})"
      ],
      "metadata": {
        "id": "JsBSXSuy4IUi"
      },
      "execution_count": 21,
      "outputs": []
    },
    {
      "cell_type": "code",
      "source": [
        "print(\"Original Dataset:\")"
      ],
      "metadata": {
        "colab": {
          "base_uri": "https://localhost:8080/"
        },
        "id": "x1WW9wFN4NeD",
        "outputId": "7803f257-f0d6-4c33-dcba-f24b13fd604e"
      },
      "execution_count": 22,
      "outputs": [
        {
          "output_type": "stream",
          "name": "stdout",
          "text": [
            "Original Dataset:\n"
          ]
        }
      ]
    },
    {
      "cell_type": "code",
      "source": [
        "print(data)"
      ],
      "metadata": {
        "colab": {
          "base_uri": "https://localhost:8080/"
        },
        "id": "PpeR6Mwu4WeR",
        "outputId": "a6f3ebf1-09cb-461c-c799-58729729d4a6"
      },
      "execution_count": 24,
      "outputs": [
        {
          "output_type": "stream",
          "name": "stdout",
          "text": [
            "  Name  Gender  Score\n",
            "0    A    Male     80\n",
            "1    B  Female     70\n",
            "2    C    Male     90\n",
            "3    D  Female     60\n",
            "4    E    Male     75\n",
            "5    F  Female     85\n",
            "6    G    Male     88\n",
            "7    H  Female     55\n"
          ]
        }
      ]
    },
    {
      "cell_type": "code",
      "source": [
        "\n",
        "random_sample = data.sample(n=4, random_state=42)  #random sampling\n",
        "print(\"\\nRandom Sample:\")\n",
        "print(random_sample)"
      ],
      "metadata": {
        "colab": {
          "base_uri": "https://localhost:8080/"
        },
        "id": "Y59D6KAC4Zsx",
        "outputId": "be444057-3908-4ed0-eb07-bcbae662b2f2"
      },
      "execution_count": 25,
      "outputs": [
        {
          "output_type": "stream",
          "name": "stdout",
          "text": [
            "\n",
            "Random Sample:\n",
            "  Name  Gender  Score\n",
            "1    B  Female     70\n",
            "5    F  Female     85\n",
            "0    A    Male     80\n",
            "7    H  Female     55\n"
          ]
        }
      ]
    },
    {
      "cell_type": "code",
      "source": [
        "X = data\n",
        "y = data['Gender']  # Stratification column\n",
        "X_train, X_stratified = train_test_split(X, test_size=0.5, stratify=y, random_state=42)\n"
      ],
      "metadata": {
        "id": "0Nfq6o9U4inT"
      },
      "execution_count": 26,
      "outputs": []
    },
    {
      "cell_type": "code",
      "source": [
        "print(\"\\nStratified Sample (based on Gender):\")\n",
        "print(X_stratified)\n"
      ],
      "metadata": {
        "colab": {
          "base_uri": "https://localhost:8080/"
        },
        "id": "AQh-ROEp4tSp",
        "outputId": "e07f2624-e4cf-460f-86b1-8f0805889472"
      },
      "execution_count": 27,
      "outputs": [
        {
          "output_type": "stream",
          "name": "stdout",
          "text": [
            "\n",
            "Stratified Sample (based on Gender):\n",
            "  Name  Gender  Score\n",
            "5    F  Female     85\n",
            "1    B  Female     70\n",
            "4    E    Male     75\n",
            "0    A    Male     80\n"
          ]
        }
      ]
    },
    {
      "cell_type": "markdown",
      "source": [
        "5.Write a Python function to calculate the range of a dataset."
      ],
      "metadata": {
        "id": "ELPfjPI15XUv"
      }
    },
    {
      "cell_type": "code",
      "source": [
        "def calculate_range(data):\n",
        "    if not data:\n",
        "        return \"Dataset is empty.\"\n",
        "    return max(data) - min(data)\n",
        "\n",
        "# 📊 Example usage:\n",
        "dataset = [12, 45, 23, 67, 34, 89, 10]\n",
        "range_value = calculate_range(dataset)\n",
        "\n",
        "print(\"Range of the dataset:\", range_value)\n"
      ],
      "metadata": {
        "colab": {
          "base_uri": "https://localhost:8080/"
        },
        "id": "jFu8taci5gPm",
        "outputId": "47abf892-a4b2-4462-a822-c601b21f50a3"
      },
      "execution_count": 28,
      "outputs": [
        {
          "output_type": "stream",
          "name": "stdout",
          "text": [
            "Range of the dataset: 79\n"
          ]
        }
      ]
    },
    {
      "cell_type": "markdown",
      "source": [
        "6.5 Create a dataset and plot its histogram to visualize skewness."
      ],
      "metadata": {
        "id": "BBwLFW0e6dM-"
      }
    },
    {
      "cell_type": "code",
      "source": [
        "import numpy as np\n",
        "import matplotlib.pyplot as plt\n",
        "import seaborn as sns\n",
        "\n",
        "# ✅ Create a right-skewed dataset using exponential distribution\n",
        "np.random.seed(42)\n",
        "data = np.random.exponential(scale=2.0, size=1000)\n",
        "\n",
        "# 📈 Plot histogram\n",
        "plt.figure(figsize=(8, 5))\n",
        "sns.histplot(data, bins=30, kde=True, color='skyblue', edgecolor='black')\n",
        "plt.title('Histogram Showing Skewness (Right-Skewed Distribution)')\n",
        "plt.xlabel('Value')\n",
        "plt.ylabel('Frequency')\n",
        "plt.grid(True)\n",
        "plt.tight_layout()\n",
        "plt.show()\n"
      ],
      "metadata": {
        "colab": {
          "base_uri": "https://localhost:8080/",
          "height": 507
        },
        "id": "ajg9c6At6feZ",
        "outputId": "2e33ed84-287d-434d-f15d-61c912b4d35b"
      },
      "execution_count": 29,
      "outputs": [
        {
          "output_type": "display_data",
          "data": {
            "text/plain": [
              "<Figure size 800x500 with 1 Axes>"
            ],
            "image/png": "[encoded data removed]"
          },
          "metadata": {}
        }
      ]
    },
    {
      "cell_type": "code",
      "source": [],
      "metadata": {
        "id": "wYMvGv5P6nwz"
      },
      "execution_count": null,
      "outputs": []
    },
    {
      "cell_type": "markdown",
      "source": [
        "8.Generate a dataset and demonstrate positive and negative skewness.\n"
      ],
      "metadata": {
        "id": "kRdiuacQ6-xP"
      }
    },
    {
      "cell_type": "code",
      "source": [
        "import numpy as np\n",
        "import matplotlib.pyplot as plt\n",
        "import seaborn as sns\n"
      ],
      "metadata": {
        "id": "PXZ6wse27BEo"
      },
      "execution_count": 30,
      "outputs": []
    },
    {
      "cell_type": "code",
      "source": [
        "# Set random seed for reproducibility\n",
        "np.random.seed(42)\n",
        "\n",
        "# ✅ Generate datasets\n",
        "positive_skew = np.random.exponential(scale=2.0, size=1000)      # Right-skewed (positive skewness)\n",
        "negative_skew = -np.random.exponential(scale=2.0, size=1000)     # Left-skewed (negative skewness)\n",
        "\n",
        "# 📈 Plot histograms\n",
        "fig, axes = plt.subplots(1, 2, figsize=(14, 5))\n",
        "\n",
        "# Positive Skew Histogram\n",
        "sns.histplot(positive_skew, bins=30, kde=True, ax=axes[0], color='skyblue', edgecolor='black')\n",
        "axes[0].set_title('Positive Skew (Right-Skewed)')\n",
        "axes[0].set_xlabel('Value')\n",
        "axes[0].set_ylabel('Frequency')\n",
        "axes[0].grid(True)\n",
        "\n",
        "# Negative Skew Histogram\n",
        "sns.histplot(negative_skew, bins=30, kde=True, ax=axes[1], color='salmon', edgecolor='black')\n",
        "axes[1].set_title('Negative Skew (Left-Skewed)')\n",
        "axes[1].set_xlabel('Value')\n",
        "axes[1].set_ylabel('Frequency')\n",
        "axes[1].grid(True)\n",
        "\n",
        "# Show plots\n",
        "plt.tight_layout()\n",
        "plt.show()\n"
      ],
      "metadata": {
        "colab": {
          "base_uri": "https://localhost:8080/",
          "height": 507
        },
        "id": "6VtTQ3zA7v0-",
        "outputId": "820e9682-aaaf-46ad-9151-6f4a884ef377"
      },
      "execution_count": 31,
      "outputs": [
        {
          "output_type": "display_data",
          "data": {
            "text/plain": [
              "<Figure size 1400x500 with 2 Axes>"
            ],
            "image/png": "[encoded data removed]"
          },
          "metadata": {}
        }
      ]
    },
    {
      "cell_type": "code",
      "source": [],
      "metadata": {
        "id": "sAvDdoTe78Fz"
      },
      "execution_count": null,
      "outputs": []
    },
    {
      "cell_type": "markdown",
      "source": [
        "9.Write a Python script to calculate covariance between two datasets."
      ],
      "metadata": {
        "id": "qgdrjPBa8G6g"
      }
    },
    {
      "cell_type": "code",
      "source": [
        "import numpy as np\n",
        "\n",
        "# ✅ Example datasets\n",
        "X = [5, 8, 12, 15, 20]\n",
        "Y = [10, 16, 25, 30, 45]\n",
        "\n",
        "# ✅ 1. Manual calculation of sample covariance\n",
        "def calculate_covariance(x, y):\n",
        "    if len(x) != len(y):\n",
        "        raise ValueError(\"Datasets must be the same length\")\n",
        "    mean_x = np.mean(x)\n",
        "    mean_y = np.mean(y)\n",
        "    cov = sum((x[i] - mean_x) * (y[i] - mean_y) for i in range(len(x))) / (len(x) - 1)\n",
        "    return cov\n",
        "\n",
        "manual_cov = calculate_covariance(X, Y)\n",
        "\n",
        "# ✅ 2. Using NumPy's built-in function\n",
        "numpy_cov = np.cov(X, Y, ddof=1)[0, 1]\n",
        "\n",
        "# 🔽 Display results\n",
        "print(\"Covariance (manual):\", manual_cov)\n",
        "print(\"Covariance (NumPy):\", numpy_cov)\n"
      ],
      "metadata": {
        "colab": {
          "base_uri": "https://localhost:8080/"
        },
        "id": "yUqwq4AB8Jo9",
        "outputId": "4305b16b-3703-4ddb-bd55-a861d92ac631"
      },
      "execution_count": 32,
      "outputs": [
        {
          "output_type": "stream",
          "name": "stdout",
          "text": [
            "Covariance (manual): 79.0\n",
            "Covariance (NumPy): 79.0\n"
          ]
        }
      ]
    },
    {
      "cell_type": "markdown",
      "source": [
        "10. Write a Python script to calculate the correlation coefficient between two datasets."
      ],
      "metadata": {
        "id": "Wj14EUD38XPe"
      }
    },
    {
      "cell_type": "code",
      "source": [
        "import numpy as np\n",
        "\n",
        "# 📊 Example datasets\n",
        "X = [5, 8, 12, 15, 20]\n",
        "Y = [10, 16, 25, 30, 45]\n",
        "\n",
        "# ✅ 1. Manual calculation of Pearson correlation coefficient\n",
        "def calculate_correlation(x, y):\n",
        "    if len(x) != len(y):\n",
        "        raise ValueError(\"Datasets must be the same length\")\n",
        "\n",
        "    mean_x = np.mean(x)\n",
        "    mean_y = np.mean(y)\n",
        "\n",
        "    numerator = sum((x[i] - mean_x) * (y[i] - mean_y) for i in range(len(x)))\n",
        "    denominator = np.sqrt(sum((x[i] - mean_x)**2 for i in range(len(x)))) * \\\n",
        "                  np.sqrt(sum((y[i] - mean_y)**2 for i in range(len(y))))\n",
        "\n",
        "    return numerator / denominator\n",
        "\n",
        "manual_corr = calculate_correlation(X, Y)\n",
        "\n",
        "# ✅ 2. Using NumPy's built-in function\n",
        "numpy_corr = np.corrcoef(X, Y)[0, 1]\n",
        "\n",
        "# 🔽 Display results\n",
        "print(\"Correlation Coefficient (manual):\", round(manual_corr, 3))\n",
        "print(\"Correlation Coefficient (NumPy):\", round(numpy_corr, 3))\n"
      ],
      "metadata": {
        "colab": {
          "base_uri": "https://localhost:8080/"
        },
        "id": "fXosIbDu8c0s",
        "outputId": "7d097c16-a0e7-468c-9f56-a0ce78f87029"
      },
      "execution_count": 33,
      "outputs": [
        {
          "output_type": "stream",
          "name": "stdout",
          "text": [
            "Correlation Coefficient (manual): 0.995\n",
            "Correlation Coefficient (NumPy): 0.995\n"
          ]
        }
      ]
    },
    {
      "cell_type": "code",
      "source": [],
      "metadata": {
        "id": "l97RR-a98y8c"
      },
      "execution_count": null,
      "outputs": []
    },
    {
      "cell_type": "markdown",
      "source": [
        "11.Create a scatter plot to visualize the relationship between two variables"
      ],
      "metadata": {
        "id": "kLqLOSg-8_D1"
      }
    },
    {
      "cell_type": "code",
      "source": [
        "import matplotlib.pyplot as plt\n",
        "\n",
        "# 📊 Example datasets\n",
        "X = [5, 8, 12, 15, 20]\n",
        "Y = [10, 16, 25, 30, 45]\n",
        "\n",
        "# 📈 Create a scatter plot\n",
        "plt.figure(figsize=(6, 5))\n",
        "plt.scatter(X, Y, color='dodgerblue', edgecolors='black')  # 'x' marker might ignore edgecolor warning\n",
        "plt.title('Scatter Plot: Relationship Between X and Y')\n",
        "plt.xlabel('X values')\n",
        "plt.ylabel('Y values')\n",
        "plt.grid(True)\n",
        "plt.tight_layout()\n",
        "plt.show()\n"
      ],
      "metadata": {
        "colab": {
          "base_uri": "https://localhost:8080/",
          "height": 507
        },
        "id": "gD6mcLFW9IlE",
        "outputId": "9cbfda3a-9028-4ea5-bb11-a8a96af1d7da"
      },
      "execution_count": 34,
      "outputs": [
        {
          "output_type": "display_data",
          "data": {
            "text/plain": [
              "<Figure size 600x500 with 1 Axes>"
            ],
            "image/png": "[encoded data removed]"
          },
          "metadata": {}
        }
      ]
    },
    {
      "cell_type": "code",
      "source": [],
      "metadata": {
        "id": "dKrRYGwf9Zge"
      },
      "execution_count": null,
      "outputs": []
    },
    {
      "cell_type": "markdown",
      "source": [
        "12.  Implement and compare simple random sampling and systematic sampling"
      ],
      "metadata": {
        "id": "dMH4wJ-N9gln"
      }
    },
    {
      "cell_type": "code",
      "source": [
        "import pandas as pd\n",
        "import numpy as np\n",
        "\n",
        "# 🔹 Create a sample dataset\n",
        "data = pd.DataFrame({\n",
        "    'ID': np.arange(1, 21),\n",
        "    'Value': np.random.randint(10, 100, 20)\n",
        "})\n",
        "\n",
        "print(\"🔸 Original Dataset:\\n\", data)\n",
        "\n",
        "# ✅ Simple Random Sampling (select 5 random rows)\n",
        "random_sample = data.sample(n=5, random_state=42)\n",
        "\n",
        "# ✅ Systematic Sampling (every k-th item)\n",
        "def systematic_sample(df, step):\n",
        "    start = np.random.randint(0, step)  # random start point\n",
        "    return df.iloc[start::step].head(5)\n",
        "\n",
        "systematic_sample_data = systematic_sample(data, step=4)\n",
        "\n",
        "# 🔽 Display results\n",
        "print(\"\\n🔹 Simple Random Sample:\\n\", random_sample)\n",
        "print(\"\\n🔹 Systematic Sample (every 4th row):\\n\", systematic_sample_data)\n"
      ],
      "metadata": {
        "colab": {
          "base_uri": "https://localhost:8080/"
        },
        "id": "-ZLyXcXl9jH8",
        "outputId": "f8f1df0e-d73a-41b9-8267-5af32c16845a"
      },
      "execution_count": 35,
      "outputs": [
        {
          "output_type": "stream",
          "name": "stdout",
          "text": [
            "🔸 Original Dataset:\n",
            "     ID  Value\n",
            "0    1     16\n",
            "1    2     44\n",
            "2    3     64\n",
            "3    4     23\n",
            "4    5     19\n",
            "5    6     89\n",
            "6    7     25\n",
            "7    8     63\n",
            "8    9     98\n",
            "9   10     86\n",
            "10  11     79\n",
            "11  12     53\n",
            "12  13     82\n",
            "13  14     54\n",
            "14  15     65\n",
            "15  16     93\n",
            "16  17     91\n",
            "17  18     66\n",
            "18  19     30\n",
            "19  20     77\n",
            "\n",
            "🔹 Simple Random Sample:\n",
            "     ID  Value\n",
            "0    1     16\n",
            "17  18     66\n",
            "15  16     93\n",
            "1    2     44\n",
            "8    9     98\n",
            "\n",
            "🔹 Systematic Sample (every 4th row):\n",
            "     ID  Value\n",
            "1    2     44\n",
            "5    6     89\n",
            "9   10     86\n",
            "13  14     54\n",
            "17  18     66\n"
          ]
        }
      ]
    },
    {
      "cell_type": "code",
      "source": [],
      "metadata": {
        "id": "j26oR5BS9vkZ"
      },
      "execution_count": null,
      "outputs": []
    },
    {
      "cell_type": "markdown",
      "source": [
        "13.Calculate the mean, median, and mode of grouped data"
      ],
      "metadata": {
        "id": "Rhe8XIpK915K"
      }
    },
    {
      "cell_type": "code",
      "source": [
        "import pandas as pd\n",
        "\n",
        "# Define class intervals and frequencies\n",
        "classes = ['0-10', '10-20', '20-30', '30-40', '40-50']\n",
        "frequency = [5, 8, 15, 16, 6]\n",
        "\n",
        "# Calculate class marks (midpoints)\n",
        "class_marks = [(int(i.split('-')[0]) + int(i.split('-')[1])) / 2 for i in classes]\n",
        "\n",
        "# Create DataFrame\n",
        "df = pd.DataFrame({\n",
        "    'Class Interval': classes,\n",
        "    'Midpoint': class_marks,\n",
        "    'Frequency': frequency\n",
        "})\n",
        "\n",
        "# Mean of grouped data: Σ(f * x) / Σf\n",
        "fx = [f * x for f, x in zip(frequency, class_marks)]\n",
        "mean = sum(fx) / sum(frequency)\n",
        "\n",
        "# Cumulative Frequency for Median calculation\n",
        "df['Cumulative Frequency'] = df['Frequency'].cumsum()\n",
        "\n",
        "# Median class and calculation\n",
        "total_freq = sum(frequency)\n",
        "median_class_index = df[df['Cumulative Frequency'] >= total_freq / 2].index[0]\n",
        "\n",
        "L = int(classes[median_class_index].split('-')[0])  # Lower boundary\n",
        "f = frequency[median_class_index]                   # Frequency of median class\n",
        "F = df['Cumulative Frequency'][median_class_index - 1] if median_class_index != 0 else 0\n",
        "h = 10                                              # Class width\n",
        "\n",
        "median = L + ((total_freq / 2 - F) / f) * h\n",
        "\n",
        "# Mode of grouped data using formula:\n",
        "# Mode = L + [(f1 - f0) / (2f1 - f0 - f2)] * h\n",
        "modal_index = frequency.index(max(frequency))\n",
        "f1 = frequency[modal_index]\n",
        "f0 = frequency[modal_index - 1] if modal_index > 0 else 0\n",
        "f2 = frequency[modal_index + 1] if modal_index < len(frequency) - 1 else 0\n",
        "L_modal = int(classes[modal_index].split('-')[0])\n",
        "\n",
        "mode = L_modal + ((f1 - f0) / ((2 * f1) - f0 - f2)) * h\n",
        "\n",
        "# Print results\n",
        "print(\"Grouped Data Mean:\", round(mean, 2))\n",
        "print(\"Grouped Data Median:\", round(median, 2))\n",
        "print(\"Grouped Data Mode:\", round(mode, 2))\n"
      ],
      "metadata": {
        "colab": {
          "base_uri": "https://localhost:8080/"
        },
        "id": "AsR3sG2P95X1",
        "outputId": "37a9ebd1-7830-4c79-b39b-5f83ccffa84a"
      },
      "execution_count": 36,
      "outputs": [
        {
          "output_type": "stream",
          "name": "stdout",
          "text": [
            "Grouped Data Mean: 27.0\n",
            "Grouped Data Median: 28.0\n",
            "Grouped Data Mode: 30.91\n"
          ]
        }
      ]
    },
    {
      "cell_type": "markdown",
      "source": [
        "14.Simulate data using Python and calculate its central tendency and dispersion."
      ],
      "metadata": {
        "id": "K7iqbsp2-e0h"
      }
    },
    {
      "cell_type": "code",
      "source": [
        "import numpy as np\n",
        "import pandas as pd\n",
        "import matplotlib.pyplot as plt\n",
        "import seaborn as sns\n",
        "\n",
        "# 🎲 Simulate 1000 values from a normal distribution (mean=50, std=10)\n",
        "np.random.seed(42)\n",
        "data = np.random.normal(loc=50, scale=10, size=1000)\n",
        "\n",
        "# 📊 Central Tendency\n",
        "mean = np.mean(data)\n",
        "median = np.median(data)\n",
        "mode = pd.Series(data).mode()[0]\n",
        "\n",
        "# 📏 Dispersion\n",
        "variance = np.var(data, ddof=1)      # Sample variance\n",
        "std_dev = np.std(data, ddof=1)       # Sample standard deviation\n",
        "data_range = np.max(data) - np.min(data)\n",
        "\n",
        "# ✅ Print Results\n",
        "print(f\"Mean: {mean:.2f}\")\n",
        "print(f\"Median: {median:.2f}\")\n",
        "print(f\"Mode: {mode:.2f}\")\n",
        "print(f\"Variance: {variance:.2f}\")\n",
        "print(f\"Standard Deviation: {std_dev:.2f}\")\n",
        "print(f\"Range: {data_range:.2f}\")\n",
        "\n",
        "# 📈 Plot histogram\n",
        "plt.figure(figsize=(8, 5))\n",
        "sns.histplot(data, bins=30, kde=True, color='skyblue', edgecolor='black')\n",
        "plt.axvline(mean, color='red', linestyle='--', label=f'Mean: {mean:.2f}')\n",
        "plt.axvline(median, color='green', linestyle='--', label=f'Median: {median:.2f}')\n",
        "plt.axvline(mode, color='purple', linestyle='--', label=f'Mode: {mode:.2f}')\n",
        "plt.title('Simulated Data Distribution')\n",
        "plt.xlabel('Value')\n",
        "plt.ylabel('Frequency')\n",
        "plt.legend()\n",
        "plt.grid(True)\n",
        "plt.tight_layout()\n",
        "plt.show()\n"
      ],
      "metadata": {
        "colab": {
          "base_uri": "https://localhost:8080/",
          "height": 611
        },
        "id": "XN0ZA6ov-gRG",
        "outputId": "83038c2c-0dd9-4d7c-cfa6-b9b3a1636651"
      },
      "execution_count": 37,
      "outputs": [
        {
          "output_type": "stream",
          "name": "stdout",
          "text": [
            "Mean: 50.19\n",
            "Median: 50.25\n",
            "Mode: 17.59\n",
            "Variance: 95.89\n",
            "Standard Deviation: 9.79\n",
            "Range: 70.94\n"
          ]
        },
        {
          "output_type": "display_data",
          "data": {
            "text/plain": [
              "<Figure size 800x500 with 1 Axes>"
            ],
            "image/png": "[encoded data removed]"
          },
          "metadata": {}
        }
      ]
    },
    {
      "cell_type": "code",
      "source": [],
      "metadata": {
        "id": "lSch240r-ylg"
      },
      "execution_count": null,
      "outputs": []
    },
    {
      "cell_type": "markdown",
      "source": [
        "15. Use NumPy or pandas to summarize a dataset’s descriptive statistics"
      ],
      "metadata": {
        "id": "Ma-ZHkEU--zv"
      }
    },
    {
      "cell_type": "code",
      "source": [
        "import numpy as np\n",
        "import pandas as pd\n",
        "\n",
        "# 🎲 Simulate dataset\n",
        "np.random.seed(42)\n",
        "data = {\n",
        "    'Height_cm': np.random.normal(loc=165, scale=10, size=100),\n",
        "    'Weight_kg': np.random.normal(loc=65, scale=15, size=100),\n",
        "    'Age': np.random.randint(18, 60, size=100)\n",
        "}\n",
        "\n",
        "df = pd.DataFrame(data)\n",
        "\n",
        "# ✅ Summary using describe()\n",
        "print(\"Descriptive Statistics using Pandas:\")\n",
        "print(df.describe())\n",
        "\n",
        "# ✅ Additional: using NumPy for more control (optional)\n",
        "print(\"\\nSummary using NumPy:\")\n",
        "for column in df.columns:\n",
        "    col = df[column]\n",
        "    print(f\"\\n{column} Stats:\")\n",
        "    print(f\"  Mean: {np.mean(col):.2f}\")\n",
        "    print(f\"  Median: {np.median(col):.2f}\")\n",
        "    print(f\"  Std Dev: {np.std(col, ddof=1):.2f}\")\n",
        "    print(f\"  Min: {np.min(col):.2f}\")\n",
        "    print(f\"  Max: {np.max(col):.2f}\")\n",
        "    print(f\"  Range: {np.max(col) - np.min(col):.2f}\")\n"
      ],
      "metadata": {
        "colab": {
          "base_uri": "https://localhost:8080/"
        },
        "id": "icn2b1nq_CMZ",
        "outputId": "78121925-7747-47e6-fdf0-63f0794b9f36"
      },
      "execution_count": 38,
      "outputs": [
        {
          "output_type": "stream",
          "name": "stdout",
          "text": [
            "Descriptive Statistics using Pandas:\n",
            "        Height_cm   Weight_kg         Age\n",
            "count  100.000000  100.000000  100.000000\n",
            "mean   163.961535   65.334569   39.270000\n",
            "std      9.081684   14.305034   11.995668\n",
            "min    138.802549   36.218432   18.000000\n",
            "25%    158.990943   52.915092   29.750000\n",
            "50%    163.730437   66.261608   40.000000\n",
            "75%    169.059521   73.072557   49.250000\n",
            "max    183.522782  105.802537   59.000000\n",
            "\n",
            "Summary using NumPy:\n",
            "\n",
            "Height_cm Stats:\n",
            "  Mean: 163.96\n",
            "  Median: 163.73\n",
            "  Std Dev: 9.08\n",
            "  Min: 138.80\n",
            "  Max: 183.52\n",
            "  Range: 44.72\n",
            "\n",
            "Weight_kg Stats:\n",
            "  Mean: 65.33\n",
            "  Median: 66.26\n",
            "  Std Dev: 14.31\n",
            "  Min: 36.22\n",
            "  Max: 105.80\n",
            "  Range: 69.58\n",
            "\n",
            "Age Stats:\n",
            "  Mean: 39.27\n",
            "  Median: 40.00\n",
            "  Std Dev: 12.00\n",
            "  Min: 18.00\n",
            "  Max: 59.00\n",
            "  Range: 41.00\n"
          ]
        }
      ]
    },
    {
      "cell_type": "code",
      "source": [],
      "metadata": {
        "id": "CbRHz8w7_UtN"
      },
      "execution_count": null,
      "outputs": []
    },
    {
      "cell_type": "markdown",
      "source": [
        "16.Plot a boxplot to understand the spread and identify outliers"
      ],
      "metadata": {
        "id": "iNZv1s01_YQG"
      }
    },
    {
      "cell_type": "code",
      "source": [
        "import numpy as np\n",
        "import pandas as pd\n",
        "import matplotlib.pyplot as plt\n",
        "import seaborn as sns\n",
        "\n",
        "# 🎲 Simulate a dataset\n",
        "np.random.seed(42)\n",
        "data = {\n",
        "    'Height_cm': np.random.normal(loc=165, scale=10, size=100),\n",
        "    'Weight_kg': np.random.normal(loc=65, scale=15, size=100),\n",
        "    'Age': np.random.randint(18, 60, size=100)\n",
        "}\n",
        "\n",
        "df = pd.DataFrame(data)\n",
        "\n",
        "# 📈 Create boxplots for each variable\n",
        "plt.figure(figsize=(10, 6))\n",
        "sns.boxplot(data=df, orient='h', palette='Set2')\n",
        "plt.title('Boxplot of Height, Weight, and Age')\n",
        "plt.xlabel('Value')\n",
        "plt.grid(True)\n",
        "plt.tight_layout()\n",
        "plt.show()\n"
      ],
      "metadata": {
        "colab": {
          "base_uri": "https://localhost:8080/",
          "height": 607
        },
        "id": "tOxPxLpJ_j1g",
        "outputId": "b86ddcdd-c32d-4d55-92e1-db3a993b88a5"
      },
      "execution_count": 39,
      "outputs": [
        {
          "output_type": "display_data",
          "data": {
            "text/plain": [
              "<Figure size 1000x600 with 1 Axes>"
            ],
            "image/png": "[encoded data removed]"
          },
          "metadata": {}
        }
      ]
    },
    {
      "cell_type": "markdown",
      "source": [
        "17.Calculate the interquartile range (IQR) of a dataset."
      ],
      "metadata": {
        "id": "1Od_QRb5__9k"
      }
    },
    {
      "cell_type": "code",
      "source": [
        "import numpy as np\n",
        "import pandas as pd\n",
        "\n",
        "# 🎲 Simulate a dataset\n",
        "np.random.seed(42)\n",
        "data = np.random.normal(loc=50, scale=15, size=100)  # Normal distribution\n",
        "\n",
        "# ✅ Calculate IQR\n",
        "Q1 = np.percentile(data, 25)   # First quartile (25th percentile)\n",
        "Q3 = np.percentile(data, 75)   # Third quartile (75th percentile)\n",
        "IQR = Q3 - Q1                  # Interquartile Range\n",
        "\n",
        "# 📊 Print results\n",
        "print(f\"Q1 (25th percentile): {Q1:.2f}\")\n",
        "print(f\"Q3 (75th percentile): {Q3:.2f}\")\n",
        "print(f\"IQR (Q3 - Q1): {IQR:.2f}\")\n"
      ],
      "metadata": {
        "colab": {
          "base_uri": "https://localhost:8080/"
        },
        "id": "KaUOhgvUAF55",
        "outputId": "a2d2423d-7629-4b32-a69e-5a67361ad533"
      },
      "execution_count": 40,
      "outputs": [
        {
          "output_type": "stream",
          "name": "stdout",
          "text": [
            "Q1 (25th percentile): 40.99\n",
            "Q3 (75th percentile): 56.09\n",
            "IQR (Q3 - Q1): 15.10\n"
          ]
        }
      ]
    },
    {
      "cell_type": "code",
      "source": [],
      "metadata": {
        "id": "hfZuxGLlAP9S"
      },
      "execution_count": null,
      "outputs": []
    },
    {
      "cell_type": "markdown",
      "source": [
        "18.Implement Z-score normalization and explain its significance"
      ],
      "metadata": {
        "id": "x3rozv9oAjb9"
      }
    },
    {
      "cell_type": "code",
      "source": [
        "import numpy as np\n",
        "import pandas as pd\n",
        "\n",
        "# 🎲 Simulate a dataset\n",
        "np.random.seed(42)\n",
        "data = np.random.normal(loc=100, scale=20, size=10)\n",
        "\n",
        "# Convert to DataFrame\n",
        "df = pd.DataFrame({'Original': data})\n",
        "\n",
        "# ✅ Z-score normalization\n",
        "mean = np.mean(data)\n",
        "std_dev = np.std(data)\n",
        "df['Z_score'] = (df['Original'] - mean) / std_dev\n",
        "\n",
        "# 📊 Print result\n",
        "print(\"Original Data with Z-scores:\\n\")\n",
        "print(df)\n"
      ],
      "metadata": {
        "colab": {
          "base_uri": "https://localhost:8080/"
        },
        "id": "b8QrY3qhA29h",
        "outputId": "f7a89e5e-d8e9-4af9-ada4-242af3cc5c37"
      },
      "execution_count": 43,
      "outputs": [
        {
          "output_type": "stream",
          "name": "stdout",
          "text": [
            "Original Data with Z-scores:\n",
            "\n",
            "     Original   Z_score\n",
            "0  109.934283  0.070933\n",
            "1   97.234714 -0.854819\n",
            "2  112.953771  0.291042\n",
            "3  130.460597  1.567225\n",
            "4   95.316933 -0.994618\n",
            "5   95.317261 -0.994594\n",
            "6  131.584256  1.649135\n",
            "7  115.348695  0.465623\n",
            "8   90.610512 -1.337699\n",
            "9  110.851201  0.137772\n"
          ]
        }
      ]
    },
    {
      "cell_type": "markdown",
      "source": [
        "19.Compare two datasets using their standard deviations\n"
      ],
      "metadata": {
        "id": "JetkgHvxA-ce"
      }
    },
    {
      "cell_type": "code",
      "source": [
        "import numpy as np\n",
        "\n",
        "# 🎲 Simulate two datasets\n",
        "np.random.seed(42)\n",
        "data1 = np.random.normal(loc=50, scale=5, size=100)   # Dataset A: Small SD\n",
        "data2 = np.random.normal(loc=50, scale=15, size=100)  # Dataset B: Larger SD\n",
        "\n",
        "# ✅ Calculate mean and standard deviation\n",
        "mean1 = np.mean(data1)\n",
        "std1 = np.std(data1, ddof=1)\n",
        "\n",
        "mean2 = np.mean(data2)\n",
        "std2 = np.std(data2, ddof=1)\n",
        "\n",
        "# 📊 Print summary\n",
        "print(\"Dataset A - Mean:\", round(mean1, 2), \" | Std Dev:\", round(std1, 2))\n",
        "print(\"Dataset B - Mean:\", round(mean2, 2), \" | Std Dev:\", round(std2, 2))\n",
        "\n",
        "# 📌 Interpretation\n",
        "if std1 < std2:\n",
        "    print(\"\\n✅ Dataset A is more consistent (less spread).\")\n",
        "else:\n",
        "    print(\"\\n✅ Dataset B is more consistent (less spread).\")\n"
      ],
      "metadata": {
        "colab": {
          "base_uri": "https://localhost:8080/"
        },
        "id": "5fLNNgikBFqp",
        "outputId": "a501581b-106a-4b64-a71e-e60dc4565f09"
      },
      "execution_count": 44,
      "outputs": [
        {
          "output_type": "stream",
          "name": "stdout",
          "text": [
            "Dataset A - Mean: 49.48  | Std Dev: 4.54\n",
            "Dataset B - Mean: 50.33  | Std Dev: 14.31\n",
            "\n",
            "✅ Dataset A is more consistent (less spread).\n"
          ]
        }
      ]
    },
    {
      "cell_type": "code",
      "source": [],
      "metadata": {
        "id": "9Hes2K2uBlLR"
      },
      "execution_count": null,
      "outputs": []
    },
    {
      "cell_type": "markdown",
      "source": [
        "20.Write a Python program to visualize covariance using a heatmap"
      ],
      "metadata": {
        "id": "VRDQxrW5BqGy"
      }
    },
    {
      "cell_type": "code",
      "source": [
        "import numpy as np\n",
        "import pandas as pd\n",
        "import seaborn as sns\n",
        "import matplotlib.pyplot as plt\n",
        "\n",
        "# 🎲 Simulate dataset\n",
        "np.random.seed(42)\n",
        "data = {\n",
        "    'Height_cm': np.random.normal(165, 10, 100),\n",
        "    'Weight_kg': np.random.normal(65, 15, 100),\n",
        "    'Age': np.random.randint(18, 60, 100)\n",
        "}\n",
        "\n",
        "df = pd.DataFrame(data)\n",
        "\n",
        "# 📈 Compute covariance matrix\n",
        "cov_matrix = df.cov()\n",
        "\n",
        "# 🔥 Plot covariance matrix as heatmap\n",
        "plt.figure(figsize=(8, 6))\n",
        "sns.heatmap(cov_matrix, annot=True, cmap='YlGnBu', fmt=\".2f\", linewidths=0.5)\n",
        "plt.title('Covariance Matrix Heatmap')\n",
        "plt.tight_layout()\n",
        "plt.show()\n"
      ],
      "metadata": {
        "colab": {
          "base_uri": "https://localhost:8080/",
          "height": 607
        },
        "id": "z3OeA3xbBvT1",
        "outputId": "06735d37-c1d7-492d-a081-1da6dc9eab74"
      },
      "execution_count": 45,
      "outputs": [
        {
          "output_type": "display_data",
          "data": {
            "text/plain": [
              "<Figure size 800x600 with 2 Axes>"
            ],
            "image/png": "[encoded data removed]"
          },
          "metadata": {}
        }
      ]
    },
    {
      "cell_type": "code",
      "source": [],
      "metadata": {
        "id": "qPe4D3FZB20N"
      },
      "execution_count": null,
      "outputs": []
    },
    {
      "cell_type": "markdown",
      "source": [
        "21. Use seaborn to create a correlation matrix for a dataset"
      ],
      "metadata": {
        "id": "bjlTBSx0B71K"
      }
    },
    {
      "cell_type": "code",
      "source": [
        "import numpy as np\n",
        "import pandas as pd\n",
        "import seaborn as sns\n",
        "import matplotlib.pyplot as plt\n",
        "\n",
        "# 🎲 Simulate a dataset\n",
        "np.random.seed(42)\n",
        "data = {\n",
        "    'Height_cm': np.random.normal(165, 10, 100),\n",
        "    'Weight_kg': np.random.normal(65, 15, 100),\n",
        "    'Age': np.random.randint(18, 60, 100)\n",
        "}\n",
        "\n",
        "df = pd.DataFrame(data)\n",
        "\n",
        "# 📊 Calculate correlation matrix\n",
        "correlation_matrix = df.corr()\n",
        "\n",
        "# 🔥 Create a heatmap\n",
        "plt.figure(figsize=(8, 6))\n",
        "sns.heatmap(correlation_matrix, annot=True, cmap='coolwarm', linewidths=0.5, fmt=\".2f\")\n",
        "plt.title(\"Correlation Matrix Heatmap\")\n",
        "plt.tight_layout()\n",
        "plt.show()\n"
      ],
      "metadata": {
        "colab": {
          "base_uri": "https://localhost:8080/",
          "height": 607
        },
        "id": "HbLF2azkCKO3",
        "outputId": "1e0c20da-0f07-4234-ec6c-e00851e9cb7d"
      },
      "execution_count": 47,
      "outputs": [
        {
          "output_type": "display_data",
          "data": {
            "text/plain": [
              "<Figure size 800x600 with 2 Axes>"
            ],
            "image/png": "[encoded data removed]"
          },
          "metadata": {}
        }
      ]
    },
    {
      "cell_type": "code",
      "source": [],
      "metadata": {
        "id": "D27YRMYdCRV9"
      },
      "execution_count": null,
      "outputs": []
    },
    {
      "cell_type": "markdown",
      "source": [
        "22.Generate a dataset and implement both variance and standard deviation computations."
      ],
      "metadata": {
        "id": "KY8bOTZFCSx_"
      }
    },
    {
      "cell_type": "code",
      "source": [
        "import numpy as np\n",
        "\n",
        "# 🎲 Generate a dataset\n",
        "np.random.seed(42)\n",
        "data = np.random.randint(10, 100, size=10)  # 10 random integers between 10 and 100\n",
        "\n",
        "# ✅ Manual computation\n",
        "mean = sum(data) / len(data)\n",
        "variance_manual = sum((x - mean) ** 2 for x in data) / (len(data) - 1)  # Sample variance\n",
        "std_dev_manual = variance_manual ** 0.5\n",
        "\n",
        "# ✅ NumPy built-in computation\n",
        "variance_numpy = np.var(data, ddof=1)  # Sample variance\n",
        "std_dev_numpy = np.std(data, ddof=1)   # Sample standard deviation\n",
        "\n",
        "# 📊 Print results\n",
        "print(\"Dataset:\", data)\n",
        "print(\"\\nManual Calculation:\")\n",
        "print(f\"Mean: {mean:.2f}\")\n",
        "print(f\"Variance: {variance_manual:.2f}\")\n",
        "print(f\"Standard Deviation: {std_dev_manual:.2f}\")\n",
        "\n",
        "print(\"\\nUsing NumPy:\")\n",
        "print(f\"Variance: {variance_numpy:.2f}\")\n",
        "print(f\"Standard Deviation: {std_dev_numpy:.2f}\")\n"
      ],
      "metadata": {
        "colab": {
          "base_uri": "https://localhost:8080/"
        },
        "id": "s-qu2BbKChWJ",
        "outputId": "6f3254d6-3f63-45a2-da5c-015018570d52"
      },
      "execution_count": 49,
      "outputs": [
        {
          "output_type": "stream",
          "name": "stdout",
          "text": [
            "Dataset: [61 24 81 70 30 92 96 84 84 97]\n",
            "\n",
            "Manual Calculation:\n",
            "Mean: 71.90\n",
            "Variance: 684.77\n",
            "Standard Deviation: 26.17\n",
            "\n",
            "Using NumPy:\n",
            "Variance: 684.77\n",
            "Standard Deviation: 26.17\n"
          ]
        }
      ]
    },
    {
      "cell_type": "code",
      "source": [],
      "metadata": {
        "id": "jnrUG_0YCnJR"
      },
      "execution_count": null,
      "outputs": []
    },
    {
      "cell_type": "markdown",
      "source": [
        "23.Visualize skewness and kurtosis using Python libraries like matplotlib or seaborn."
      ],
      "metadata": {
        "id": "JKEaffSoCpIg"
      }
    },
    {
      "cell_type": "code",
      "source": [
        "import numpy as np\n",
        "import pandas as pd\n",
        "import matplotlib.pyplot as plt\n",
        "import seaborn as sns\n",
        "from scipy.stats import skew, kurtosis\n",
        "\n",
        "# 🎲 Simulate a skewed dataset (exponential distribution)\n",
        "np.random.seed(42)\n",
        "data = np.random.exponential(scale=2.0, size=1000)\n",
        "\n",
        "# 📏 Calculate skewness and kurtosis\n",
        "data_skewness = skew(data)\n",
        "data_kurtosis = kurtosis(data)  # Fisher's definition: normal = 0\n",
        "\n",
        "# 📊 Display values\n",
        "print(f\"Skewness: {data_skewness:.2f}\")\n",
        "print(f\"Kurtosis: {data_kurtosis:.2f}\")\n",
        "\n",
        "# 📈 Plot histogram with KDE\n",
        "plt.figure(figsize=(8, 5))\n",
        "sns.histplot(data, bins=30, kde=True, color='skyblue', edgecolor='black')\n",
        "plt.title(f\"Distribution\\nSkewness = {data_skewness:.2f}, Kurtosis = {data_kurtosis:.2f}\")\n",
        "plt.xlabel('Value')\n",
        "plt.ylabel('Frequency')\n",
        "plt.grid(True)\n",
        "plt.tight_layout()\n",
        "plt.show()\n"
      ],
      "metadata": {
        "colab": {
          "base_uri": "https://localhost:8080/",
          "height": 541
        },
        "id": "QXjnb0DLDAKy",
        "outputId": "e1e2c959-97cd-46de-bad9-0d6a430e4723"
      },
      "execution_count": 51,
      "outputs": [
        {
          "output_type": "stream",
          "name": "stdout",
          "text": [
            "Skewness: 1.87\n",
            "Kurtosis: 5.22\n"
          ]
        },
        {
          "output_type": "display_data",
          "data": {
            "text/plain": [
              "<Figure size 800x500 with 1 Axes>"
            ],
            "image/png": "[encoded data removed]"
          },
          "metadata": {}
        }
      ]
    },
    {
      "cell_type": "code",
      "source": [],
      "metadata": {
        "id": "YT0Hu0InDElu"
      },
      "execution_count": null,
      "outputs": []
    },
    {
      "cell_type": "markdown",
      "source": [
        "24. Implement the Pearson and Spearman correlation coefficients for a dataset"
      ],
      "metadata": {
        "id": "PjxV4igzDQk6"
      }
    },
    {
      "cell_type": "code",
      "source": [
        "import numpy as np\n",
        "import pandas as pd\n",
        "from scipy.stats import pearsonr, spearmanr\n",
        "\n",
        "# 🎲 Simulate a dataset\n",
        "np.random.seed(42)\n",
        "X = np.random.randint(10, 100, size=50)\n",
        "Y = X + np.random.normal(0, 10, size=50)  # Add some noise to create a realistic relationship\n",
        "\n",
        "# ✅ Pearson Correlation Coefficient (linear relationship)\n",
        "pearson_corr, pearson_p = pearsonr(X, Y)\n",
        "\n",
        "# ✅ Spearman Correlation Coefficient (rank-based relationship)\n",
        "spearman_corr, spearman_p = spearmanr(X, Y)\n",
        "\n",
        "# 📊 Print results\n",
        "print(\"Pearson Correlation Coefficient:\")\n",
        "print(f\"  r = {pearson_corr:.3f}, p-value = {pearson_p:.4f}\")\n",
        "\n",
        "print(\"\\nSpearman Correlation Coefficient:\")\n",
        "print(f\"  r = {spearman_corr:.3f}, p-value = {spearman_p:.4f}\")\n"
      ],
      "metadata": {
        "colab": {
          "base_uri": "https://localhost:8080/"
        },
        "id": "XtqNO664DUEl",
        "outputId": "b4470c5d-d5fc-4df1-8d4e-3c65d856b616"
      },
      "execution_count": 52,
      "outputs": [
        {
          "output_type": "stream",
          "name": "stdout",
          "text": [
            "Pearson Correlation Coefficient:\n",
            "  r = 0.937, p-value = 0.0000\n",
            "\n",
            "Spearman Correlation Coefficient:\n",
            "  r = 0.933, p-value = 0.0000\n"
          ]
        }
      ]
    },
    {
      "cell_type": "code",
      "source": [],
      "metadata": {
        "id": "wmTc3ECgDbBD"
      },
      "execution_count": null,
      "outputs": []
    }
  ]
}